{
 "cells": [
  {
   "cell_type": "code",
   "execution_count": 14,
   "metadata": {
    "executionInfo": {
     "elapsed": 390,
     "status": "ok",
     "timestamp": 1638190270145,
     "user": {
      "displayName": "조원기",
      "photoUrl": "https://lh3.googleusercontent.com/a/default-user=s64",
      "userId": "03176743448410123113"
     },
     "user_tz": -540
    },
    "id": "PVBpHb50qrUY"
   },
   "outputs": [],
   "source": [
    "import os, random\n",
    "import tensorflow as tf\n",
    "import keras\n",
    "from tensorflow.keras.datasets import mnist\n",
    "from tensorflow.keras.models import Sequential\n",
    "from tensorflow.keras.layers import Dense, Dropout\n",
    "from tensorflow.keras.optimizers import RMSprop\n",
    "import numpy as np\n",
    "\n",
    "os.path.expanduser = lambda path: './'"
   ]
  },
  {
   "cell_type": "code",
   "execution_count": 15,
   "metadata": {
    "colab": {
     "base_uri": "https://localhost:8080/"
    },
    "executionInfo": {
     "elapsed": 650,
     "status": "ok",
     "timestamp": 1638190270794,
     "user": {
      "displayName": "조원기",
      "photoUrl": "https://lh3.googleusercontent.com/a/default-user=s64",
      "userId": "03176743448410123113"
     },
     "user_tz": -540
    },
    "id": "Csb4ASCjqrUb",
    "outputId": "a71ba976-0707-4bab-952f-f69857b355d5"
   },
   "outputs": [
    {
     "name": "stdout",
     "output_type": "stream",
     "text": [
      "(60000, 28, 28)\n",
      "60000 train samples\n",
      "10000 test samples\n"
     ]
    }
   ],
   "source": [
    "batch_size = 128\n",
    "num_classes = 10\n",
    "epochs = 20\n",
    "\n",
    "# the data, split between train and test sets\n",
    "(x_train, y_train), (x_test, y_test) = mnist.load_data()\n",
    "print(x_train.shape)\n",
    "x_train = x_train.reshape(60000, 784)\n",
    "x_test = x_test.reshape(10000, 784)\n",
    "x_train = x_train.astype('float32')\n",
    "x_test = x_test.astype('float32')\n",
    "x_train /= 255\n",
    "x_test /= 255\n",
    "print(x_train.shape[0], 'train samples')\n",
    "print(x_test.shape[0], 'test samples')\n",
    "\n",
    "# convert class vectors to binary class matrices\n",
    "y_train = tf.keras.utils.to_categorical(y_train, num_classes)\n",
    "y_test = tf.keras.utils.to_categorical(y_test, num_classes)"
   ]
  },
  {
   "cell_type": "markdown",
   "metadata": {
    "id": "SF2Q3uD1qrUc"
   },
   "source": [
    "# Define Model "
   ]
  },
  {
   "cell_type": "code",
   "execution_count": 16,
   "metadata": {
    "colab": {
     "base_uri": "https://localhost:8080/"
    },
    "executionInfo": {
     "elapsed": 4,
     "status": "ok",
     "timestamp": 1638190270794,
     "user": {
      "displayName": "조원기",
      "photoUrl": "https://lh3.googleusercontent.com/a/default-user=s64",
      "userId": "03176743448410123113"
     },
     "user_tz": -540
    },
    "id": "pOHVoezvqrUd",
    "outputId": "eb15b8a4-201e-4329-a9fd-d0ed08dadae5",
    "scrolled": false
   },
   "outputs": [
    {
     "name": "stdout",
     "output_type": "stream",
     "text": [
      "Model: \"sequential_1\"\n",
      "_________________________________________________________________\n",
      "Layer (type)                 Output Shape              Param #   \n",
      "=================================================================\n",
      "dense_3 (Dense)              (None, 512)               401920    \n",
      "_________________________________________________________________\n",
      "dropout_2 (Dropout)          (None, 512)               0         \n",
      "_________________________________________________________________\n",
      "dense_4 (Dense)              (None, 512)               262656    \n",
      "_________________________________________________________________\n",
      "dropout_3 (Dropout)          (None, 512)               0         \n",
      "_________________________________________________________________\n",
      "dense_5 (Dense)              (None, 10)                5130      \n",
      "=================================================================\n",
      "Total params: 669,706\n",
      "Trainable params: 669,706\n",
      "Non-trainable params: 0\n",
      "_________________________________________________________________\n"
     ]
    }
   ],
   "source": [
    "# for reproducibility\n",
    "import random, os\n",
    "os.environ['PYTHONHASHSEED']='0'\n",
    "random.seed(123)\n",
    "np.random.seed(123)\n",
    "tf.random.set_seed(123)\n",
    "\n",
    "kernel_initializer='glorot_uniform'\n",
    "activation_function = 'relu'\n",
    "\n",
    "model = Sequential()\n",
    "model.add(Dense(512, activation='relu', input_shape=(784,)))\n",
    "model.add(Dropout(0.2))\n",
    "model.add(Dense(512, activation='relu'))\n",
    "model.add(Dropout(0.2))\n",
    "model.add(Dense(num_classes, activation='softmax'))\n",
    "\n",
    "model.summary()\n",
    "\n",
    "model.compile(loss='categorical_crossentropy',\n",
    "              optimizer=RMSprop(),\n",
    "              metrics=['accuracy'])"
   ]
  },
  {
   "cell_type": "markdown",
   "metadata": {
    "id": "tAHfNSKaqrUd"
   },
   "source": [
    "# Start Training"
   ]
  },
  {
   "cell_type": "code",
   "execution_count": 17,
   "metadata": {
    "colab": {
     "base_uri": "https://localhost:8080/"
    },
    "executionInfo": {
     "elapsed": 82546,
     "status": "ok",
     "timestamp": 1638190353337,
     "user": {
      "displayName": "조원기",
      "photoUrl": "https://lh3.googleusercontent.com/a/default-user=s64",
      "userId": "03176743448410123113"
     },
     "user_tz": -540
    },
    "id": "ot9o2EpoqrUe",
    "outputId": "91438946-a2d3-43f7-f2f6-f9f6a422333d"
   },
   "outputs": [
    {
     "name": "stdout",
     "output_type": "stream",
     "text": [
      "Epoch 1/20\n",
      "375/375 [==============================] - 3s 8ms/step - loss: 0.2754 - accuracy: 0.9147 - val_loss: 0.1202 - val_accuracy: 0.9625\n",
      "Epoch 2/20\n",
      "375/375 [==============================] - 3s 8ms/step - loss: 0.1114 - accuracy: 0.9662 - val_loss: 0.1028 - val_accuracy: 0.9708\n",
      "Epoch 3/20\n",
      "375/375 [==============================] - 3s 8ms/step - loss: 0.0799 - accuracy: 0.9760 - val_loss: 0.0869 - val_accuracy: 0.9753\n",
      "Epoch 4/20\n",
      "375/375 [==============================] - 3s 9ms/step - loss: 0.0622 - accuracy: 0.9813 - val_loss: 0.0905 - val_accuracy: 0.9765\n",
      "Epoch 5/20\n",
      "375/375 [==============================] - 3s 9ms/step - loss: 0.0499 - accuracy: 0.9846 - val_loss: 0.0928 - val_accuracy: 0.9768\n",
      "Epoch 6/20\n",
      "375/375 [==============================] - 3s 8ms/step - loss: 0.0436 - accuracy: 0.9866 - val_loss: 0.0971 - val_accuracy: 0.9781\n",
      "Epoch 7/20\n",
      "375/375 [==============================] - 3s 8ms/step - loss: 0.0385 - accuracy: 0.9884 - val_loss: 0.1081 - val_accuracy: 0.9772\n",
      "Epoch 8/20\n",
      "375/375 [==============================] - 3s 9ms/step - loss: 0.0337 - accuracy: 0.9901 - val_loss: 0.0975 - val_accuracy: 0.9806\n",
      "Epoch 9/20\n",
      "375/375 [==============================] - 3s 8ms/step - loss: 0.0280 - accuracy: 0.9913 - val_loss: 0.1180 - val_accuracy: 0.9788\n",
      "Epoch 10/20\n",
      "375/375 [==============================] - 3s 9ms/step - loss: 0.0282 - accuracy: 0.9920 - val_loss: 0.1045 - val_accuracy: 0.9787\n",
      "Epoch 11/20\n",
      "375/375 [==============================] - 3s 9ms/step - loss: 0.0248 - accuracy: 0.9924 - val_loss: 0.1093 - val_accuracy: 0.9818\n",
      "Epoch 12/20\n",
      "375/375 [==============================] - 3s 8ms/step - loss: 0.0237 - accuracy: 0.9929 - val_loss: 0.1316 - val_accuracy: 0.9789\n",
      "Epoch 13/20\n",
      "375/375 [==============================] - 3s 8ms/step - loss: 0.0202 - accuracy: 0.9937 - val_loss: 0.1262 - val_accuracy: 0.9809\n",
      "Epoch 14/20\n",
      "375/375 [==============================] - 3s 8ms/step - loss: 0.0215 - accuracy: 0.9935 - val_loss: 0.1334 - val_accuracy: 0.9814\n",
      "Epoch 15/20\n",
      "375/375 [==============================] - 3s 8ms/step - loss: 0.0170 - accuracy: 0.9947 - val_loss: 0.1441 - val_accuracy: 0.9813\n",
      "Epoch 16/20\n",
      "375/375 [==============================] - 3s 8ms/step - loss: 0.0178 - accuracy: 0.9947 - val_loss: 0.1385 - val_accuracy: 0.9809\n",
      "Epoch 17/20\n",
      "375/375 [==============================] - 3s 8ms/step - loss: 0.0181 - accuracy: 0.9951 - val_loss: 0.1358 - val_accuracy: 0.9818\n",
      "Epoch 18/20\n",
      "375/375 [==============================] - 3s 7ms/step - loss: 0.0169 - accuracy: 0.9951 - val_loss: 0.1428 - val_accuracy: 0.9822\n",
      "Epoch 19/20\n",
      "375/375 [==============================] - 3s 8ms/step - loss: 0.0147 - accuracy: 0.9957 - val_loss: 0.1547 - val_accuracy: 0.9798\n",
      "Epoch 20/20\n",
      "375/375 [==============================] - 3s 8ms/step - loss: 0.0134 - accuracy: 0.9960 - val_loss: 0.1582 - val_accuracy: 0.9821\n"
     ]
    }
   ],
   "source": [
    "history = model.fit(x_train, y_train,\n",
    "                    batch_size=batch_size,\n",
    "                    epochs=epochs,\n",
    "                    validation_split=0.2)"
   ]
  },
  {
   "cell_type": "markdown",
   "metadata": {
    "id": "GCYGOYusqrUe"
   },
   "source": [
    "# Caculate loss"
   ]
  },
  {
   "cell_type": "markdown",
   "metadata": {
    "id": "2e6QCHA_qrUf"
   },
   "source": [
    "## using Keras function"
   ]
  },
  {
   "cell_type": "code",
   "execution_count": 18,
   "metadata": {
    "colab": {
     "base_uri": "https://localhost:8080/"
    },
    "executionInfo": {
     "elapsed": 11,
     "status": "ok",
     "timestamp": 1638190353337,
     "user": {
      "displayName": "조원기",
      "photoUrl": "https://lh3.googleusercontent.com/a/default-user=s64",
      "userId": "03176743448410123113"
     },
     "user_tz": -540
    },
    "id": "Ks1yMEvaqrUf",
    "outputId": "8bdda1b0-56af-43a5-a44d-b9e2174d3cb3"
   },
   "outputs": [
    {
     "name": "stdout",
     "output_type": "stream",
     "text": [
      "X_test[test_range].shape is (1000, 784)\n",
      "Y_test[test_range].shape is (1000, 10)\n"
     ]
    }
   ],
   "source": [
    "test_range = range(1000)  #same as \"[a:b]\"\n",
    "print('X_test[test_range].shape is', x_test[test_range].shape)\n",
    "print('Y_test[test_range].shape is', y_test[test_range].shape)"
   ]
  },
  {
   "cell_type": "code",
   "execution_count": 19,
   "metadata": {
    "colab": {
     "base_uri": "https://localhost:8080/"
    },
    "executionInfo": {
     "elapsed": 10,
     "status": "ok",
     "timestamp": 1638190353338,
     "user": {
      "displayName": "조원기",
      "photoUrl": "https://lh3.googleusercontent.com/a/default-user=s64",
      "userId": "03176743448410123113"
     },
     "user_tz": -540
    },
    "id": "94g4n3uFqrUg",
    "outputId": "44da51fb-8ed1-4e99-e634-7fc5b43de6bb"
   },
   "outputs": [
    {
     "name": "stdout",
     "output_type": "stream",
     "text": [
      "32/32 [==============================] - 0s 933us/step - loss: 0.1037 - accuracy: 0.9770\n",
      "0.10372436046600342\n"
     ]
    }
   ],
   "source": [
    "metrics = model.evaluate(x_test[test_range], y_test[test_range]) #returns loss and accuracy\n",
    "print(metrics[0])"
   ]
  },
  {
   "cell_type": "markdown",
   "metadata": {
    "id": "UNXhB-exqrUh"
   },
   "source": [
    "# Calculate accuracy "
   ]
  },
  {
   "cell_type": "markdown",
   "metadata": {
    "id": "hIiwFe8dqrUh"
   },
   "source": [
    "## using Keras function"
   ]
  },
  {
   "cell_type": "code",
   "execution_count": 20,
   "metadata": {
    "colab": {
     "base_uri": "https://localhost:8080/"
    },
    "executionInfo": {
     "elapsed": 5,
     "status": "ok",
     "timestamp": 1638190354684,
     "user": {
      "displayName": "조원기",
      "photoUrl": "https://lh3.googleusercontent.com/a/default-user=s64",
      "userId": "03176743448410123113"
     },
     "user_tz": -540
    },
    "id": "9BEMQ_KTqrUh",
    "outputId": "9eb1913d-8653-43a0-826e-afdc20692ef0"
   },
   "outputs": [
    {
     "name": "stdout",
     "output_type": "stream",
     "text": [
      "32/32 [==============================] - 0s 579us/step - loss: 0.1037 - accuracy: 0.9770\n",
      "0.9769999980926514\n"
     ]
    }
   ],
   "source": [
    "metrics = model.evaluate(x_test[test_range], y_test[test_range]) #returns loss and accuracy\n",
    "print(metrics[1])"
   ]
  },
  {
   "cell_type": "code",
   "execution_count": null,
   "metadata": {
    "executionInfo": {
     "elapsed": 3,
     "status": "ok",
     "timestamp": 1638190354685,
     "user": {
      "displayName": "조원기",
      "photoUrl": "https://lh3.googleusercontent.com/a/default-user=s64",
      "userId": "03176743448410123113"
     },
     "user_tz": -540
    },
    "id": "Hsd4XUl-vGyR"
   },
   "outputs": [],
   "source": []
  }
 ],
 "metadata": {
  "accelerator": "GPU",
  "colab": {
   "collapsed_sections": [],
   "name": "ex2_MNIST_MLP.ipynb",
   "provenance": []
  },
  "kernelspec": {
   "display_name": "Python 3",
   "language": "python",
   "name": "python3"
  },
  "language_info": {
   "codemirror_mode": {
    "name": "ipython",
    "version": 3
   },
   "file_extension": ".py",
   "mimetype": "text/x-python",
   "name": "python",
   "nbconvert_exporter": "python",
   "pygments_lexer": "ipython3",
   "version": "3.9.2"
  }
 },
 "nbformat": 4,
 "nbformat_minor": 1
}
