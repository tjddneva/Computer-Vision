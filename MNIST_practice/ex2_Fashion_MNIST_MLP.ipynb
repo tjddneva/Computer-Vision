{
 "cells": [
  {
   "cell_type": "code",
   "execution_count": 3,
   "metadata": {
    "executionInfo": {
     "elapsed": 261,
     "status": "ok",
     "timestamp": 1638188590461,
     "user": {
      "displayName": "조원기",
      "photoUrl": "https://lh3.googleusercontent.com/a/default-user=s64",
      "userId": "03176743448410123113"
     },
     "user_tz": -540
    },
    "id": "Jl2PTNfKpMSC"
   },
   "outputs": [],
   "source": [
    "import os, random\n",
    "import keras\n",
    "from keras.datasets import fashion_mnist\n",
    "from keras.models import Sequential\n",
    "from keras.layers import Dense\n",
    "import numpy as np\n",
    "import tensorflow as tf\n",
    "os.path.expanduser = lambda path: './'"
   ]
  },
  {
   "cell_type": "code",
   "execution_count": 4,
   "metadata": {
    "colab": {
     "base_uri": "https://localhost:8080/"
    },
    "executionInfo": {
     "elapsed": 881,
     "status": "ok",
     "timestamp": 1638188614392,
     "user": {
      "displayName": "조원기",
      "photoUrl": "https://lh3.googleusercontent.com/a/default-user=s64",
      "userId": "03176743448410123113"
     },
     "user_tz": -540
    },
    "id": "vyR-axxHpMSF",
    "outputId": "bd7570c0-416d-4fc5-ed15-2de903846c4b"
   },
   "outputs": [
    {
     "name": "stdout",
     "output_type": "stream",
     "text": [
      "(60000, 28, 28)\n",
      "60000 train samples\n",
      "10000 test samples\n"
     ]
    }
   ],
   "source": [
    "batch_size = 128\n",
    "num_classes = 10\n",
    "epochs = 10\n",
    "\n",
    "# the data, split between train and test sets\n",
    "(x_train, y_train), (x_test, y_test) = fashion_mnist.load_data()\n",
    "print(x_train.shape)\n",
    "x_train = x_train.reshape(60000, 784)\n",
    "x_test = x_test.reshape(10000, 784)\n",
    "x_train = x_train.astype('float32')\n",
    "x_test = x_test.astype('float32')\n",
    "x_train /= 255\n",
    "x_test /= 255\n",
    "print(x_train.shape[0], 'train samples')\n",
    "print(x_test.shape[0], 'test samples')\n",
    "\n",
    "# convert class vectors to binary class matrices\n",
    "y_train = tf.keras.utils.to_categorical(y_train, num_classes)\n",
    "y_test = tf.keras.utils.to_categorical(y_test, num_classes)"
   ]
  },
  {
   "cell_type": "markdown",
   "metadata": {
    "id": "UZOWP8ZBpMSG"
   },
   "source": [
    "# Define Model "
   ]
  },
  {
   "cell_type": "code",
   "execution_count": 5,
   "metadata": {
    "colab": {
     "base_uri": "https://localhost:8080/"
    },
    "executionInfo": {
     "elapsed": 265,
     "status": "ok",
     "timestamp": 1638188990903,
     "user": {
      "displayName": "조원기",
      "photoUrl": "https://lh3.googleusercontent.com/a/default-user=s64",
      "userId": "03176743448410123113"
     },
     "user_tz": -540
    },
    "id": "TrHW09FMpMSH",
    "outputId": "3fadd6e1-75f0-419a-9bf6-ac99e90963e1",
    "scrolled": false
   },
   "outputs": [
    {
     "name": "stdout",
     "output_type": "stream",
     "text": [
      "Model: \"sequential\"\n",
      "_________________________________________________________________\n",
      "Layer (type)                 Output Shape              Param #   \n",
      "=================================================================\n",
      "dense (Dense)                (None, 512)               401920    \n",
      "_________________________________________________________________\n",
      "dense_1 (Dense)              (None, 512)               262656    \n",
      "_________________________________________________________________\n",
      "dense_2 (Dense)              (None, 10)                5130      \n",
      "=================================================================\n",
      "Total params: 669,706\n",
      "Trainable params: 669,706\n",
      "Non-trainable params: 0\n",
      "_________________________________________________________________\n"
     ]
    }
   ],
   "source": [
    "# for reproducibility\n",
    "import random, os\n",
    "os.environ['PYTHONHASHSEED']='0'\n",
    "random.seed(123)\n",
    "np.random.seed(123)\n",
    "tf.random.set_seed(123)\n",
    "# sess = tf.Session(config=tf.ConfigProto(    intra_op_parallelism_threads=1,    inter_op_parallelism_threads=1,\n",
    "#                                                                allow_soft_placement=True, device_count = {'CPU': 1}))\n",
    "# from keras import backend as K\n",
    "# K.set_session(sess)\n",
    "\n",
    "kernel_initializer='glorot_uniform'\n",
    "activation_function = 'relu'\n",
    "\n",
    "with tf.device('/gpu:0'):\n",
    "    model = Sequential()\n",
    "    model.add(Dense(512, activation='relu', input_shape=(784,)))\n",
    "    model.add(Dense(512, activation='relu'))\n",
    "    model.add(Dense(num_classes, activation='softmax'))\n",
    "\n",
    "    model.summary()\n",
    "\n",
    "    model.compile(loss='categorical_crossentropy',\n",
    "                  optimizer='sgd',\n",
    "                  metrics=['accuracy'])"
   ]
  },
  {
   "cell_type": "markdown",
   "metadata": {
    "id": "T1DFie4ApMSH"
   },
   "source": [
    "# Start Training"
   ]
  },
  {
   "cell_type": "code",
   "execution_count": 6,
   "metadata": {
    "colab": {
     "base_uri": "https://localhost:8080/"
    },
    "executionInfo": {
     "elapsed": 142692,
     "status": "ok",
     "timestamp": 1638189136815,
     "user": {
      "displayName": "조원기",
      "photoUrl": "https://lh3.googleusercontent.com/a/default-user=s64",
      "userId": "03176743448410123113"
     },
     "user_tz": -540
    },
    "id": "oRspPKJqpMSI",
    "outputId": "e63d6051-7078-42b7-d2a9-744edc4032cf",
    "scrolled": true
   },
   "outputs": [
    {
     "name": "stdout",
     "output_type": "stream",
     "text": [
      "Epoch 1/10\n",
      "375/375 [==============================] - 12s 6ms/step - loss: 1.4877 - accuracy: 0.5640 - val_loss: 0.7133 - val_accuracy: 0.7771\n",
      "Epoch 2/10\n",
      "375/375 [==============================] - 2s 5ms/step - loss: 0.6865 - accuracy: 0.7825 - val_loss: 0.6068 - val_accuracy: 0.7938\n",
      "Epoch 3/10\n",
      "375/375 [==============================] - 2s 5ms/step - loss: 0.5790 - accuracy: 0.8106 - val_loss: 0.5362 - val_accuracy: 0.8216\n",
      "Epoch 4/10\n",
      "375/375 [==============================] - 2s 5ms/step - loss: 0.5290 - accuracy: 0.8249 - val_loss: 0.5049 - val_accuracy: 0.8307\n",
      "Epoch 5/10\n",
      "375/375 [==============================] - 2s 5ms/step - loss: 0.4943 - accuracy: 0.8326 - val_loss: 0.4949 - val_accuracy: 0.8317\n",
      "Epoch 6/10\n",
      "375/375 [==============================] - 2s 5ms/step - loss: 0.4728 - accuracy: 0.8410 - val_loss: 0.4687 - val_accuracy: 0.8400\n",
      "Epoch 7/10\n",
      "375/375 [==============================] - 2s 5ms/step - loss: 0.4604 - accuracy: 0.8416 - val_loss: 0.4558 - val_accuracy: 0.8456\n",
      "Epoch 8/10\n",
      "375/375 [==============================] - 2s 5ms/step - loss: 0.4457 - accuracy: 0.8455 - val_loss: 0.4479 - val_accuracy: 0.8473\n",
      "Epoch 9/10\n",
      "375/375 [==============================] - 2s 5ms/step - loss: 0.4421 - accuracy: 0.8508 - val_loss: 0.4595 - val_accuracy: 0.8418\n",
      "Epoch 10/10\n",
      "375/375 [==============================] - 2s 5ms/step - loss: 0.4334 - accuracy: 0.8521 - val_loss: 0.4458 - val_accuracy: 0.8454\n"
     ]
    }
   ],
   "source": [
    "history = model.fit(x_train, y_train,\n",
    "                    batch_size=batch_size,\n",
    "                    epochs=epochs,\n",
    "                    validation_split=0.2)"
   ]
  },
  {
   "cell_type": "markdown",
   "metadata": {
    "id": "zFzCZzawpMSI"
   },
   "source": [
    "# Calculate accuracy "
   ]
  },
  {
   "cell_type": "code",
   "execution_count": 7,
   "metadata": {
    "colab": {
     "base_uri": "https://localhost:8080/"
    },
    "executionInfo": {
     "elapsed": 1500,
     "status": "ok",
     "timestamp": 1638189138311,
     "user": {
      "displayName": "조원기",
      "photoUrl": "https://lh3.googleusercontent.com/a/default-user=s64",
      "userId": "03176743448410123113"
     },
     "user_tz": -540
    },
    "id": "seVZy5SqpMSJ",
    "outputId": "87433ae1-638f-40c9-dcbf-a4a81a0ad1d4"
   },
   "outputs": [
    {
     "name": "stdout",
     "output_type": "stream",
     "text": [
      "313/313 [==============================] - 0s 863us/step - loss: 0.4703 - accuracy: 0.8359\n",
      "0.8359000086784363\n"
     ]
    }
   ],
   "source": [
    "metrics = model.evaluate(x_test, y_test) #returns loss and accuracy\n",
    "print(metrics[1])"
   ]
  },
  {
   "cell_type": "code",
   "execution_count": null,
   "metadata": {
    "id": "OrHIIs0Xq8H7"
   },
   "outputs": [],
   "source": []
  }
 ],
 "metadata": {
  "accelerator": "GPU",
  "colab": {
   "collapsed_sections": [],
   "name": "ex3_Fashion_MNIST_MLP.ipynb",
   "provenance": []
  },
  "kernelspec": {
   "display_name": "Python 3",
   "language": "python",
   "name": "python3"
  },
  "language_info": {
   "codemirror_mode": {
    "name": "ipython",
    "version": 3
   },
   "file_extension": ".py",
   "mimetype": "text/x-python",
   "name": "python",
   "nbconvert_exporter": "python",
   "pygments_lexer": "ipython3",
   "version": "3.9.2"
  }
 },
 "nbformat": 4,
 "nbformat_minor": 1
}
